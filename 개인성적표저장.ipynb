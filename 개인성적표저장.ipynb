{
  "nbformat": 4,
  "nbformat_minor": 0,
  "metadata": {
    "colab": {
      "provenance": []
    },
    "kernelspec": {
      "name": "python3",
      "display_name": "Python 3"
    },
    "language_info": {
      "name": "python"
    }
  },
  "cells": [
    {
      "cell_type": "markdown",
      "source": [
        "### 파일명 : 개인성적표저장.ipynb\n",
        "### 작성일 : 25.04.08\n",
        "### 작성자 : 오도은"
      ],
      "metadata": {
        "id": "R-qK7FIrErVG"
      }
    },
    {
      "cell_type": "markdown",
      "source": [
        "#### 1. 데이터 불러오기 및 처리"
      ],
      "metadata": {
        "id": "d_FDQSl9FF2n"
      }
    },
    {
      "cell_type": "code",
      "execution_count": null,
      "metadata": {
        "colab": {
          "base_uri": "https://localhost:8080/"
        },
        "id": "LXCPczgT85YG",
        "outputId": "ca5d1bb3-4c68-4f8c-fb01-05f4f3d56a08"
      },
      "outputs": [
        {
          "output_type": "stream",
          "name": "stderr",
          "text": [
            "<ipython-input-46-672c73c56ac1>:8: SettingWithCopyWarning: \n",
            "A value is trying to be set on a copy of a slice from a DataFrame\n",
            "\n",
            "See the caveats in the documentation: https://pandas.pydata.org/pandas-docs/stable/user_guide/indexing.html#returning-a-view-versus-a-copy\n",
            "  df2.iloc[7] = df2.iloc[7].apply(lambda x: round(x, 2) if isinstance(x, (int, float)) else x) # 소수점 둘째자리까지만 표시\n"
          ]
        }
      ],
      "source": [
        "import pandas as pd\n",
        "import matplotlib.pyplot as plt\n",
        "\n",
        "# 엑셀 파일 로드\n",
        "df = pd.read_excel(\"/content/drive/MyDrive/scores_10.xlsx\")\n",
        "df2 = df.iloc[:13,:] # 필요한 데이터만 가져오기\n",
        "\n",
        "# 데이터 처리\n",
        "df2.iloc[7] = df2.iloc[7].apply(lambda x: round(x, 2) if isinstance(x, (int, float)) else x) # 소수점 둘째자리까지만 표시"
      ]
    },
    {
      "cell_type": "markdown",
      "source": [
        "#### 2. 한글 폰트 설치 및 처리"
      ],
      "metadata": {
        "id": "wAJEvshoFtTv"
      }
    },
    {
      "cell_type": "code",
      "source": [
        "# ✅ 한글 폰트 설치\n",
        "!apt -qq -y install fonts-nanum > /dev/null\n",
        "\n",
        "# ✅ matplotlib에 한글 폰트 설정\n",
        "import matplotlib.pyplot as plt\n",
        "plt.rcParams['font.family'] = 'NanumGothic'"
      ],
      "metadata": {
        "colab": {
          "base_uri": "https://localhost:8080/"
        },
        "id": "bB8yqDoD_CmT",
        "outputId": "10962969-d19f-4eea-8c0b-e640be5c6d43"
      },
      "execution_count": null,
      "outputs": [
        {
          "output_type": "stream",
          "name": "stdout",
          "text": [
            "\n",
            "WARNING: apt does not have a stable CLI interface. Use with caution in scripts.\n",
            "\n"
          ]
        }
      ]
    },
    {
      "cell_type": "code",
      "source": [
        "!fc-list | grep -i nanum"
      ],
      "metadata": {
        "colab": {
          "base_uri": "https://localhost:8080/"
        },
        "id": "JQdu3ccS_ee-",
        "outputId": "81f302c7-1b0c-45a4-9a8d-849e6587b952"
      },
      "execution_count": null,
      "outputs": [
        {
          "output_type": "stream",
          "name": "stdout",
          "text": [
            "/usr/share/fonts/truetype/nanum/NanumSquareRoundB.ttf: NanumSquareRound,나눔스퀘어라운드,NanumSquareRound Bold,나눔스퀘어라운드 Bold:style=Bold,Regular\n",
            "/usr/share/fonts/truetype/nanum/NanumGothicCodingBold.ttf: NanumGothicCoding,나눔고딕코딩:style=Bold\n",
            "/usr/share/fonts/truetype/nanum/NanumSquareRoundR.ttf: NanumSquareRound,나눔스퀘어라운드,NanumSquareRound Regular,나눔스퀘어라운드 Regular:style=Regular\n",
            "/usr/share/fonts/truetype/nanum/NanumSquareB.ttf: NanumSquare,나눔스퀘어,NanumSquare Bold,나눔스퀘어 Bold:style=Bold\n",
            "/usr/share/fonts/truetype/nanum/NanumBarunGothic.ttf: NanumBarunGothic,나눔바른고딕:style=Regular\n",
            "/usr/share/fonts/truetype/nanum/NanumGothic.ttf: NanumGothic,나눔고딕:style=Regular\n",
            "/usr/share/fonts/truetype/nanum/NanumGothicCoding.ttf: NanumGothicCoding,나눔고딕코딩:style=Regular\n",
            "/usr/share/fonts/truetype/nanum/NanumBarunGothicBold.ttf: NanumBarunGothic,나눔바른고딕:style=Bold\n",
            "/usr/share/fonts/truetype/nanum/NanumGothicBold.ttf: NanumGothic,나눔고딕:style=Bold\n",
            "/usr/share/fonts/truetype/nanum/NanumSquareR.ttf: NanumSquare,나눔스퀘어:style=Regular\n",
            "/usr/share/fonts/truetype/nanum/NanumMyeongjo.ttf: NanumMyeongjo,나눔명조:style=Regular\n",
            "/usr/share/fonts/truetype/nanum/NanumMyeongjoBold.ttf: NanumMyeongjo,나눔명조:style=Bold\n"
          ]
        }
      ]
    },
    {
      "cell_type": "code",
      "source": [
        "import matplotlib.pyplot as plt\n",
        "import matplotlib.font_manager as fm\n",
        "\n",
        "# 폰트 경로 등록\n",
        "font_path = \"/usr/share/fonts/truetype/nanum/NanumGothic.ttf\"\n",
        "font_bold_path = \"/usr/share/fonts/truetype/nanum/NanumGothicBold.ttf\"\n",
        "fm.fontManager.addfont(font_path)\n",
        "fm.fontManager.addfont(font_bold_path)\n",
        "\n",
        "# 폰트 설정\n",
        "plt.rcParams['font.family'] = 'NanumGothic'\n",
        "plt.rcParams['axes.unicode_minus'] = False\n",
        "\n",
        "fontprop = fm.FontProperties(fname=font_bold_path)"
      ],
      "metadata": {
        "id": "lQsNta6T_hmh"
      },
      "execution_count": null,
      "outputs": []
    },
    {
      "cell_type": "markdown",
      "source": [
        "#### 3. 학생 별 성적표 이미지로 저장\n",
        "파일명: 학생이름"
      ],
      "metadata": {
        "id": "Zd8ykw-iFw3t"
      }
    },
    {
      "cell_type": "code",
      "source": [
        "# 이미지 저장\n",
        "\n",
        "for col in df2.columns[2:]:\n",
        "\n",
        "    sub_df = df2[['구분', '과목명', col]]\n",
        "    sub_df.columns = ['','과목명',col]\n",
        "\n",
        "    fig, ax = plt.subplots(figsize=(6, len(sub_df)*0.4))\n",
        "    ax.axis('off')\n",
        "\n",
        "    table = ax.table(\n",
        "        cellText=sub_df.values,\n",
        "        colLabels=sub_df.columns,\n",
        "        loc='center',\n",
        "        cellLoc='center'\n",
        "    )\n",
        "    table.auto_set_font_size(False)  # 폰트 자동 크기 조절 끄기\n",
        "    table.set_fontsize(12)           # ✅ 폰트 크기 수동 설정\n",
        "    table.scale(1, 2)                # ✅ 셀 세로 크기도 키워주기\n",
        "\n",
        "    # ✅ 가운데 컬럼(과목명)만 너비 늘리기\n",
        "    col_to_expand = 1  # 0=교수명, 1=과목명, 2=성적\n",
        "\n",
        "    n_rows = len(sub_df) + 1  # +1 for header row\n",
        "    for row in range(n_rows):\n",
        "        cell = table[row, col_to_expand]\n",
        "        cell.set_width(0.5)  # 기본보다 넓게 설정 (0.2~0.5 정도가 적당)\n",
        "    # ✅ 첫 번째 행(헤더)만 bold 처리\n",
        "    for col2 in range(len(sub_df.columns)):\n",
        "        cell = table[0, col2]\n",
        "        cell_text = cell.get_text()\n",
        "\n",
        "        cell_text.set_fontproperties(fontprop)\n",
        "        cell_text.set_fontsize(14)\n",
        "        cell.set_facecolor('#d0f0c0')\n",
        "\n",
        "\n",
        "    # table.scale(1, 1.5)\n",
        "    plt.tight_layout()\n",
        "    # plt.show()\n",
        "    plt.savefig(f'/content/drive/MyDrive/10기성적이미지/{col}.png', dpi=300)\n",
        "    print(col, 'saved')\n",
        "    plt.close()\n"
      ],
      "metadata": {
        "colab": {
          "base_uri": "https://localhost:8080/"
        },
        "id": "-BoJm1Rk-XJF",
        "outputId": "4871ef32-dee7-46dd-c8e1-80a755bc08e1"
      },
      "execution_count": null,
      "outputs": [
        {
          "output_type": "stream",
          "name": "stdout",
          "text": [
            "고명진\n",
            "공보경\n",
            "권소연\n",
            "김경은\n",
            "김도균\n",
            "김문희\n",
            "김영석\n",
            "김태규\n",
            "김태희\n",
            "김혜원\n",
            "류승호\n",
            "문현빈\n",
            "박규리\n",
            "박연주\n",
            "박윤지\n",
            "박주현\n",
            "백선영\n",
            "손정민\n",
            "신주영\n",
            "오세욱\n",
            "윤건우\n",
            "이수빈\n",
            "이정민\n",
            "이지호\n",
            "이학준\n",
            "이한슬기\n",
            "이현창\n",
            "임시우\n",
            "정연호\n",
            "조성권\n",
            "조수림\n",
            "조영서\n",
            "조예지\n",
            "조정욱\n",
            "조형준\n",
            "최민지\n",
            "최병화\n",
            "최원준\n",
            "최한비\n",
            "한성훈\n",
            "허웅\n",
            "현민재\n"
          ]
        }
      ]
    }
  ]
}