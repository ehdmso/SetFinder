{
  "nbformat": 4,
  "nbformat_minor": 0,
  "metadata": {
    "colab": {
      "provenance": []
    },
    "kernelspec": {
      "name": "python3",
      "display_name": "Python 3"
    },
    "language_info": {
      "name": "python"
    }
  },
  "cells": [
    {
      "cell_type": "markdown",
      "source": [
        "작성일 : 24.10.12\n",
        "\n",
        "[![Open In Colab](https://colab.research.google.com/assets/colab-badge.svg)](https://colab.research.google.com/github/ehdmso/SetFinder/blob/main/%EA%B2%B0%ED%95%A9%EB%AC%B8%EC%A0%9C%EA%B5%AC%ED%98%84.ipynb)"
      ],
      "metadata": {
        "id": "6ik1sMgN6NyX"
      }
    },
    {
      "cell_type": "code",
      "source": [
        "import random\n",
        "import itertools\n",
        "\n",
        "class TileSetFinder:\n",
        "    def __init__(self):\n",
        "        # 특성 정의\n",
        "        self.background_colors = ['white', 'gray', 'black']\n",
        "        self.shapes = ['circle', 'triangle', 'square']\n",
        "        self.shape_colors = ['red', 'blue', 'yellow']\n",
        "\n",
        "    def generate_tiles(self):\n",
        "        # 모든 조합 생성\n",
        "        all_tiles = list(itertools.product(self.background_colors, self.shapes, self.shape_colors))\n",
        "        # 9개의 서로 다른 타일을 랜덤하게 선택\n",
        "        self.random_tiles = random.sample(all_tiles, 9)\n",
        "\n",
        "    def is_set(self, tile1, tile2, tile3):\n",
        "        # 합 조건을 만족하는지 확인\n",
        "        for i in range(3):  # 0: 배경색, 1: 도형, 2: 도형색\n",
        "            if not (tile1[i] == tile2[i] == tile3[i] or len({tile1[i], tile2[i], tile3[i]}) == 3):\n",
        "                return False\n",
        "        return True\n",
        "\n",
        "    def find_sets(self):\n",
        "        # 모든 가능한 3개 조합에서 합을 찾음\n",
        "        self.sets = []\n",
        "        for comb in itertools.combinations(enumerate(self.random_tiles, 1), 3):\n",
        "            (idx1, tile1), (idx2, tile2), (idx3, tile3) = comb\n",
        "            if self.is_set(tile1, tile2, tile3):\n",
        "                self.sets.append((idx1, idx2, idx3))\n",
        "\n",
        "    def execute(self):\n",
        "        # 타일 생성 및 합 찾기 실행\n",
        "        self.generate_tiles()\n",
        "        self.find_sets()\n",
        "        # 출력\n",
        "        print(\"Random Tiles:\")\n",
        "        for idx, tile in enumerate(self.random_tiles, 1):\n",
        "            print(f\"{idx}: {tile}\")\n",
        "        print(\"\\nSets Found:\")\n",
        "        if self.sets:\n",
        "            for s in self.sets:\n",
        "                print(s)\n",
        "        else:\n",
        "            print(\"No sets found\")\n",
        "\n",
        "# 캡슐화된 실행\n",
        "tile_set_finder = TileSetFinder()\n",
        "tile_set_finder.execute()\n"
      ],
      "metadata": {
        "colab": {
          "base_uri": "https://localhost:8080/"
        },
        "id": "Zg6D8S18xEWr",
        "outputId": "d7c45661-161b-42e8-8d22-aba26d8924a2"
      },
      "execution_count": 3,
      "outputs": [
        {
          "output_type": "stream",
          "name": "stdout",
          "text": [
            "Random Tiles:\n",
            "1: ('black', 'circle', 'red')\n",
            "2: ('gray', 'triangle', 'yellow')\n",
            "3: ('gray', 'square', 'blue')\n",
            "4: ('gray', 'triangle', 'red')\n",
            "5: ('black', 'circle', 'blue')\n",
            "6: ('white', 'triangle', 'blue')\n",
            "7: ('black', 'triangle', 'red')\n",
            "8: ('black', 'square', 'yellow')\n",
            "9: ('gray', 'triangle', 'blue')\n",
            "\n",
            "Sets Found:\n",
            "(2, 4, 9)\n",
            "(2, 6, 7)\n",
            "(3, 5, 6)\n",
            "(5, 7, 8)\n"
          ]
        }
      ]
    },
    {
      "cell_type": "code",
      "source": [],
      "metadata": {
        "id": "_2zKeHQ8x0s3"
      },
      "execution_count": null,
      "outputs": []
    }
  ]
}